{
 "cells": [
  {
   "cell_type": "code",
   "execution_count": 1,
   "metadata": {},
   "outputs": [
    {
     "name": "stderr",
     "output_type": "stream",
     "text": [
      "Using TensorFlow backend.\n"
     ]
    }
   ],
   "source": [
    "import numpy as np\n",
    "import matplotlib.pyplot as plt\n",
    "from keras.datasets import mnist\n",
    "from deep_convnet import DeepConvNet\n",
    "%matplotlib inline\n",
    "\n",
    "from common.functions import softmax\n",
    "import cv2\n",
    "import functools"
   ]
  },
  {
   "cell_type": "code",
   "execution_count": 2,
   "metadata": {},
   "outputs": [],
   "source": [
    "def rotate_x(x, angle, scale=1.0):\n",
    "    x = x.reshape(28,28)\n",
    "    h, w = x.shape\n",
    "    \n",
    "    mat = cv2.getRotationMatrix2D((w/2, h/2), angle, scale)\n",
    "    affine_x = cv2.warpAffine(x, mat, (w, h))\n",
    "\n",
    "    return affine_x"
   ]
  },
  {
   "cell_type": "code",
   "execution_count": 3,
   "metadata": {},
   "outputs": [],
   "source": [
    "def shift_x(x, shift):\n",
    "    x = x.reshape(28,28)\n",
    "    h, w = x.shape\n",
    "    \n",
    "    src = np.array([[0.0, 0.0],[0.0, 1.0],[1.0, 0.0]], np.float32)\n",
    "    dest = src.copy()\n",
    "    dest[:,0] += shift\n",
    "    affine = cv2.getAffineTransform(src, dest)\n",
    "    return cv2.warpAffine(x, affine, (w, h))"
   ]
  },
  {
   "cell_type": "code",
   "execution_count": 4,
   "metadata": {},
   "outputs": [],
   "source": [
    "def shift_y(x, shift):\n",
    "    x = x.reshape(28,28)\n",
    "    h, w = x.shape\n",
    "    \n",
    "    src = np.array([[0.0, 0.0],[0.0, 1.0],[1.0, 0.0]], np.float32)\n",
    "    dest = src.copy()\n",
    "    dest[:,1] += shift\n",
    "    affine = cv2.getAffineTransform(src, dest)\n",
    "    return cv2.warpAffine(x, affine, (w, h))"
   ]
  },
  {
   "cell_type": "code",
   "execution_count": 5,
   "metadata": {},
   "outputs": [],
   "source": [
    "(x_train, t_train), (x_test, t_test) = mnist.load_data()"
   ]
  },
  {
   "cell_type": "code",
   "execution_count": 6,
   "metadata": {},
   "outputs": [],
   "source": [
    "eps = 0.3"
   ]
  },
  {
   "cell_type": "code",
   "execution_count": 7,
   "metadata": {
    "scrolled": false
   },
   "outputs": [],
   "source": [
    "x_test = x_test.reshape(-1,1,28,28).astype(np.float32) / 255.0"
   ]
  },
  {
   "cell_type": "code",
   "execution_count": 8,
   "metadata": {},
   "outputs": [
    {
     "name": "stdout",
     "output_type": "stream",
     "text": [
      "loaded Network Parameters!\n"
     ]
    }
   ],
   "source": [
    "network = DeepConvNet()\n",
    "\n",
    "network.load_params(\"deep_convnet_params.pkl\")\n",
    "print(\"loaded Network Parameters!\")"
   ]
  },
  {
   "cell_type": "code",
   "execution_count": 9,
   "metadata": {},
   "outputs": [],
   "source": [
    "def generate_setsudo(x, label, network):\n",
    "    x = x.reshape(1, 1, 28, 28)\n",
    "    \n",
    "    d, g = network.gradient_for_fgsm(x, np.array([label]))\n",
    "    d = d.reshape(28, 28)\n",
    "    p = np.sign(d)\n",
    "\n",
    "    return p"
   ]
  },
  {
   "cell_type": "code",
   "execution_count": 10,
   "metadata": {},
   "outputs": [],
   "source": [
    "def generate_adv(x, label, network, eps=0.3):\n",
    "    x = x.reshape(1, 1, 28, 28)\n",
    "    p = generate_setsudo(x,label,network)\n",
    "    adv = (x + eps*p).clip(min=0, max=1)\n",
    "    adv = adv.reshape(1, 1, 28, 28)\n",
    "    \n",
    "    return adv"
   ]
  },
  {
   "cell_type": "code",
   "execution_count": 11,
   "metadata": {},
   "outputs": [],
   "source": [
    "def predict(x, network):\n",
    "    x = x.reshape(1, 1, 28, 28)\n",
    "    \n",
    "    pre = network.predict(x)\n",
    "    pre_label = np.argmax(pre)\n",
    "    pre_score = round(max(softmax(pre[0])), 2)\n",
    "    \n",
    "    return pre_label, pre_score"
   ]
  },
  {
   "cell_type": "code",
   "execution_count": 12,
   "metadata": {},
   "outputs": [],
   "source": [
    "def show_generate_adv(x, label, network, eps=0.3):\n",
    "    \n",
    "    fig = plt.figure(figsize=(20, 20))\n",
    "    fig.subplots_adjust(wspace=0.4, hspace=0.1)\n",
    "    \n",
    "    x = x.reshape(1, 1, 28, 28)\n",
    "    \n",
    "    pre_label_x, pre_score_x = predict(x, network)\n",
    "    \n",
    "    ax = fig.add_subplot(1, 3, 1)\n",
    "    ax.set_title(f\"{pre_label_x} : {pre_score_x}\")\n",
    "    ax.imshow(x.reshape(28,28), 'gray')\n",
    "    \n",
    "    p = generate_setsudo(x, label, network)\n",
    "    \n",
    "    pre_label_p, pre_score_p = predict(p, network)\n",
    "    \n",
    "    ax = fig.add_subplot(1, 3, 2)\n",
    "    ax.set_title(f\"{pre_label_p} : {pre_score_p}\")\n",
    "    ax.imshow(p, 'gray')\n",
    "    \n",
    "    adv = (x + eps*p).clip(min=0, max=1)\n",
    "    \n",
    "    pre_label_adv, pre_score_adv = predict(adv, network)\n",
    "    \n",
    "    ax = fig.add_subplot(1, 3, 3)\n",
    "    ax.set_title(f\"{pre_label_adv} : {pre_score_adv}\")\n",
    "    ax.imshow(adv.reshape(28,28), 'gray')\n",
    "    \n",
    "    return adv"
   ]
  },
  {
   "cell_type": "code",
   "execution_count": 13,
   "metadata": {
    "scrolled": false
   },
   "outputs": [
    {
     "data": {
      "image/png": "[encoded data removed]",
      "text/plain": [
       "<Figure size 1440x1440 with 3 Axes>"
      ]
     },
     "metadata": {
      "needs_background": "light"
     },
     "output_type": "display_data"
    }
   ],
   "source": [
    "x = x_test[0]\n",
    "t = t_test[0]\n",
    "adv = show_generate_adv(x, t, network, eps)"
   ]
  },
  {
   "cell_type": "code",
   "execution_count": 14,
   "metadata": {},
   "outputs": [
    {
     "data": {
      "image/png": "[encoded data removed]",
      "text/plain": [
       "<Figure size 432x288 with 1 Axes>"
      ]
     },
     "metadata": {
      "needs_background": "light"
     },
     "output_type": "display_data"
    }
   ],
   "source": [
    "rotate_adv = rotate_x(adv, 10)\n",
    "pre_label_adv, pre_score_adv = predict(rotate_adv, network)\n",
    "\n",
    "plt.title(f\"{pre_label_adv} : {pre_score_adv}\")\n",
    "plt.imshow(rotate_adv.reshape(28,28), 'gray')\n",
    "plt.show()"
   ]
  },
  {
   "cell_type": "code",
   "execution_count": 15,
   "metadata": {},
   "outputs": [
    {
     "data": {
      "image/png": "[encoded data removed]",
      "text/plain": [
       "<Figure size 432x288 with 1 Axes>"
      ]
     },
     "metadata": {
      "needs_background": "light"
     },
     "output_type": "display_data"
    }
   ],
   "source": [
    "shift_x_adv = shift_x(adv, 3)\n",
    "pre_label_adv, pre_score_adv = predict(shift_x_adv, network)\n",
    "\n",
    "plt.title(f\"{pre_label_adv} : {pre_score_adv}\")\n",
    "plt.imshow(shift_x_adv.reshape(28,28), 'gray')\n",
    "plt.show()"
   ]
  },
  {
   "cell_type": "code",
   "execution_count": 16,
   "metadata": {},
   "outputs": [
    {
     "data": {
      "image/png": "[encoded data removed]",
      "text/plain": [
       "<Figure size 432x288 with 1 Axes>"
      ]
     },
     "metadata": {
      "needs_background": "light"
     },
     "output_type": "display_data"
    }
   ],
   "source": [
    "shift_y_adv = shift_y(adv, 3)\n",
    "pre_label_adv, pre_score_adv = predict(shift_y_adv, network)\n",
    "\n",
    "plt.title(f\"{pre_label_adv} : {pre_score_adv}\")\n",
    "plt.imshow(shift_y_adv.reshape(28,28), 'gray')\n",
    "plt.show()"
   ]
  },
  {
   "cell_type": "code",
   "execution_count": 17,
   "metadata": {},
   "outputs": [
    {
     "data": {
      "image/png": "[encoded data removed]",
      "text/plain": [
       "<Figure size 432x288 with 1 Axes>"
      ]
     },
     "metadata": {
      "needs_background": "light"
     },
     "output_type": "display_data"
    }
   ],
   "source": [
    "shift_y_adv = shift_y(adv, -3)\n",
    "pre_label_adv, pre_score_adv = predict(shift_y_adv, network)\n",
    "\n",
    "plt.title(f\"{pre_label_adv} : {pre_score_adv}\")\n",
    "plt.imshow(shift_y_adv.reshape(28,28), 'gray')\n",
    "plt.show()"
   ]
  },
  {
   "cell_type": "code",
   "execution_count": 18,
   "metadata": {},
   "outputs": [],
   "source": [
    "def generate_adv_list(x_list, t_list, network, eps=0.3):\n",
    "    x_list = x_list.reshape(-1,28,28)\n",
    "    adv_list = []\n",
    "    for x,t in zip(x_list, t_list):\n",
    "        adv = generate_adv(x,t,network,eps)\n",
    "        adv_list.append(adv.reshape(1,28,28))\n",
    "        \n",
    "    return np.array(adv_list)"
   ]
  },
  {
   "cell_type": "code",
   "execution_count": 19,
   "metadata": {},
   "outputs": [
    {
     "data": {
      "text/plain": [
       "(1000, 1, 28, 28)"
      ]
     },
     "execution_count": 19,
     "metadata": {},
     "output_type": "execute_result"
    }
   ],
   "source": [
    "adv_test = generate_adv_list(x_test[:1000], t_test[:1000],network,eps)\n",
    "adv_test.shape"
   ]
  },
  {
   "cell_type": "code",
   "execution_count": 20,
   "metadata": {},
   "outputs": [],
   "source": [
    "def rotate_x_pertial(angle):\n",
    "    return functools.partial(rotate_x,angle=angle)\n",
    "\n",
    "def shift_x_pertial(shift):\n",
    "    return functools.partial(shift_x,shift=shift)\n",
    "\n",
    "def shift_y_pertial(shift):\n",
    "    return functools.partial(shift_y,shift=shift)"
   ]
  },
  {
   "cell_type": "code",
   "execution_count": 21,
   "metadata": {},
   "outputs": [],
   "source": [
    "def generate_affine_list(func, x_list):\n",
    "    x_list = x_list.reshape(-1,28,28)\n",
    "    affine_list = []\n",
    "    for x in x_list:\n",
    "        affine = func(x=x)\n",
    "        affine_list.append(affine.reshape(1,28,28))\n",
    "        \n",
    "    return np.array(affine_list)"
   ]
  },
  {
   "cell_type": "code",
   "execution_count": 22,
   "metadata": {},
   "outputs": [
    {
     "data": {
      "image/png": "[encoded data removed]",
      "text/plain": [
       "<Figure size 432x288 with 1 Axes>"
      ]
     },
     "metadata": {
      "needs_background": "light"
     },
     "output_type": "display_data"
    },
    {
     "data": {
      "text/plain": [
       "0.988"
      ]
     },
     "execution_count": 22,
     "metadata": {},
     "output_type": "execute_result"
    }
   ],
   "source": [
    "plt.imshow(x_test[0].reshape(28,28), 'gray')\n",
    "plt.show()\n",
    "x_acc = network.accuracy(x_test[:1000], t_test[:1000])\n",
    "x_acc"
   ]
  },
  {
   "cell_type": "code",
   "execution_count": 23,
   "metadata": {},
   "outputs": [
    {
     "data": {
      "image/png": "[encoded data removed]",
      "text/plain": [
       "<Figure size 432x288 with 1 Axes>"
      ]
     },
     "metadata": {
      "needs_background": "light"
     },
     "output_type": "display_data"
    },
    {
     "data": {
      "image/png": "[encoded data removed]",
      "text/plain": [
       "<Figure size 432x288 with 1 Axes>"
      ]
     },
     "metadata": {
      "needs_background": "light"
     },
     "output_type": "display_data"
    },
    {
     "data": {
      "text/plain": [
       "0.971"
      ]
     },
     "execution_count": 23,
     "metadata": {},
     "output_type": "execute_result"
    }
   ],
   "source": [
    "plt.imshow(x_test[0].reshape(28,28), 'gray')\n",
    "plt.show()\n",
    "affine_test = generate_affine_list(shift_x_pertial(3),x_test[:1000])\n",
    "plt.imshow(affine_test[0].reshape(28,28), 'gray')\n",
    "plt.show()\n",
    "affine_acc = network.accuracy(affine_test[:1000], t_test[:1000])\n",
    "affine_acc"
   ]
  },
  {
   "cell_type": "code",
   "execution_count": 24,
   "metadata": {},
   "outputs": [
    {
     "data": {
      "image/png": "[encoded data removed]",
      "text/plain": [
       "<Figure size 432x288 with 1 Axes>"
      ]
     },
     "metadata": {
      "needs_background": "light"
     },
     "output_type": "display_data"
    },
    {
     "data": {
      "image/png": "[encoded data removed]",
      "text/plain": [
       "<Figure size 432x288 with 1 Axes>"
      ]
     },
     "metadata": {
      "needs_background": "light"
     },
     "output_type": "display_data"
    },
    {
     "data": {
      "text/plain": [
       "0.942"
      ]
     },
     "execution_count": 24,
     "metadata": {},
     "output_type": "execute_result"
    }
   ],
   "source": [
    "plt.imshow(x_test[0].reshape(28,28), 'gray')\n",
    "plt.show()\n",
    "affine_test = generate_affine_list(shift_y_pertial(3),x_test[:1000])\n",
    "plt.imshow(affine_test[0].reshape(28,28), 'gray')\n",
    "plt.show()\n",
    "affine_acc = network.accuracy(affine_test[:1000], t_test[:1000])\n",
    "affine_acc"
   ]
  },
  {
   "cell_type": "code",
   "execution_count": 25,
   "metadata": {},
   "outputs": [
    {
     "data": {
      "image/png": "[encoded data removed]",
      "text/plain": [
       "<Figure size 432x288 with 1 Axes>"
      ]
     },
     "metadata": {
      "needs_background": "light"
     },
     "output_type": "display_data"
    },
    {
     "data": {
      "image/png": "[encoded data removed]",
      "text/plain": [
       "<Figure size 432x288 with 1 Axes>"
      ]
     },
     "metadata": {
      "needs_background": "light"
     },
     "output_type": "display_data"
    },
    {
     "data": {
      "text/plain": [
       "0.896"
      ]
     },
     "execution_count": 25,
     "metadata": {},
     "output_type": "execute_result"
    }
   ],
   "source": [
    "plt.imshow(x_test[0].reshape(28,28), 'gray')\n",
    "plt.show()\n",
    "affine_test = generate_affine_list(shift_y_pertial(-3),x_test[:1000])\n",
    "plt.imshow(affine_test[0].reshape(28,28), 'gray')\n",
    "plt.show()\n",
    "affine_acc = network.accuracy(affine_test[:1000], t_test[:1000])\n",
    "affine_acc"
   ]
  },
  {
   "cell_type": "code",
   "execution_count": 26,
   "metadata": {},
   "outputs": [
    {
     "data": {
      "image/png": "[encoded data removed]",
      "text/plain": [
       "<Figure size 432x288 with 1 Axes>"
      ]
     },
     "metadata": {
      "needs_background": "light"
     },
     "output_type": "display_data"
    },
    {
     "data": {
      "image/png": "[encoded data removed]",
      "text/plain": [
       "<Figure size 432x288 with 1 Axes>"
      ]
     },
     "metadata": {
      "needs_background": "light"
     },
     "output_type": "display_data"
    },
    {
     "data": {
      "text/plain": [
       "0.989"
      ]
     },
     "execution_count": 26,
     "metadata": {},
     "output_type": "execute_result"
    }
   ],
   "source": [
    "plt.imshow(x_test[0].reshape(28,28), 'gray')\n",
    "plt.show()\n",
    "affine_test = generate_affine_list(rotate_x_pertial(5),x_test[:1000])\n",
    "plt.imshow(affine_test[0].reshape(28,28), 'gray')\n",
    "plt.show()\n",
    "affine_acc = network.accuracy(affine_test[:1000], t_test[:1000])\n",
    "affine_acc"
   ]
  },
  {
   "cell_type": "code",
   "execution_count": 27,
   "metadata": {},
   "outputs": [
    {
     "data": {
      "image/png": "[encoded data removed]",
      "text/plain": [
       "<Figure size 432x288 with 1 Axes>"
      ]
     },
     "metadata": {
      "needs_background": "light"
     },
     "output_type": "display_data"
    },
    {
     "data": {
      "image/png": "[encoded data removed]",
      "text/plain": [
       "<Figure size 432x288 with 1 Axes>"
      ]
     },
     "metadata": {
      "needs_background": "light"
     },
     "output_type": "display_data"
    },
    {
     "data": {
      "text/plain": [
       "0.986"
      ]
     },
     "execution_count": 27,
     "metadata": {},
     "output_type": "execute_result"
    }
   ],
   "source": [
    "plt.imshow(x_test[0].reshape(28,28), 'gray')\n",
    "plt.show()\n",
    "affine_test = generate_affine_list(rotate_x_pertial(10),x_test[:1000])\n",
    "plt.imshow(affine_test[0].reshape(28,28), 'gray')\n",
    "plt.show()\n",
    "affine_acc = network.accuracy(affine_test[:1000], t_test[:1000])\n",
    "affine_acc"
   ]
  },
  {
   "cell_type": "code",
   "execution_count": 28,
   "metadata": {},
   "outputs": [
    {
     "data": {
      "image/png": "[encoded data removed]",
      "text/plain": [
       "<Figure size 432x288 with 1 Axes>"
      ]
     },
     "metadata": {
      "needs_background": "light"
     },
     "output_type": "display_data"
    },
    {
     "data": {
      "text/plain": [
       "0.354"
      ]
     },
     "execution_count": 28,
     "metadata": {},
     "output_type": "execute_result"
    }
   ],
   "source": [
    "plt.imshow(adv_test[0].reshape(28,28), 'gray')\n",
    "plt.show()\n",
    "affine_acc = network.accuracy(adv_test[:1000], t_test[:1000])\n",
    "affine_acc"
   ]
  },
  {
   "cell_type": "code",
   "execution_count": 29,
   "metadata": {},
   "outputs": [
    {
     "data": {
      "image/png": "[encoded data removed]",
      "text/plain": [
       "<Figure size 432x288 with 1 Axes>"
      ]
     },
     "metadata": {
      "needs_background": "light"
     },
     "output_type": "display_data"
    },
    {
     "data": {
      "image/png": "[encoded data removed]",
      "text/plain": [
       "<Figure size 432x288 with 1 Axes>"
      ]
     },
     "metadata": {
      "needs_background": "light"
     },
     "output_type": "display_data"
    },
    {
     "data": {
      "text/plain": [
       "0.33"
      ]
     },
     "execution_count": 29,
     "metadata": {},
     "output_type": "execute_result"
    }
   ],
   "source": [
    "plt.imshow(adv_test[0].reshape(28,28), 'gray')\n",
    "plt.show()\n",
    "affine_test = generate_affine_list(shift_x_pertial(3),adv_test[:1000])\n",
    "plt.imshow(affine_test[0].reshape(28,28), 'gray')\n",
    "plt.show()\n",
    "affine_acc = network.accuracy(affine_test[:1000], t_test[:1000])\n",
    "affine_acc"
   ]
  },
  {
   "cell_type": "code",
   "execution_count": 30,
   "metadata": {},
   "outputs": [
    {
     "data": {
      "image/png": "[encoded data removed]",
      "text/plain": [
       "<Figure size 432x288 with 1 Axes>"
      ]
     },
     "metadata": {
      "needs_background": "light"
     },
     "output_type": "display_data"
    },
    {
     "data": {
      "image/png": "[encoded data removed]",
      "text/plain": [
       "<Figure size 432x288 with 1 Axes>"
      ]
     },
     "metadata": {
      "needs_background": "light"
     },
     "output_type": "display_data"
    },
    {
     "data": {
      "text/plain": [
       "0.364"
      ]
     },
     "execution_count": 30,
     "metadata": {},
     "output_type": "execute_result"
    }
   ],
   "source": [
    "plt.imshow(adv_test[0].reshape(28,28), 'gray')\n",
    "plt.show()\n",
    "affine_test = generate_affine_list(shift_y_pertial(3),adv_test[:1000])\n",
    "plt.imshow(affine_test[0].reshape(28,28), 'gray')\n",
    "plt.show()\n",
    "affine_acc = network.accuracy(affine_test[:1000], t_test[:1000])\n",
    "affine_acc"
   ]
  },
  {
   "cell_type": "code",
   "execution_count": 31,
   "metadata": {},
   "outputs": [
    {
     "data": {
      "image/png": "[encoded data removed]",
      "text/plain": [
       "<Figure size 432x288 with 1 Axes>"
      ]
     },
     "metadata": {
      "needs_background": "light"
     },
     "output_type": "display_data"
    },
    {
     "data": {
      "image/png": "[encoded data removed]",
      "text/plain": [
       "<Figure size 432x288 with 1 Axes>"
      ]
     },
     "metadata": {
      "needs_background": "light"
     },
     "output_type": "display_data"
    },
    {
     "data": {
      "text/plain": [
       "0.316"
      ]
     },
     "execution_count": 31,
     "metadata": {},
     "output_type": "execute_result"
    }
   ],
   "source": [
    "plt.imshow(adv_test[0].reshape(28,28), 'gray')\n",
    "plt.show()\n",
    "affine_test = generate_affine_list(shift_y_pertial(-3),adv_test[:1000])\n",
    "plt.imshow(affine_test[0].reshape(28,28), 'gray')\n",
    "plt.show()\n",
    "affine_acc = network.accuracy(affine_test[:1000], t_test[:1000])\n",
    "affine_acc"
   ]
  },
  {
   "cell_type": "code",
   "execution_count": 32,
   "metadata": {},
   "outputs": [
    {
     "data": {
      "image/png": "[encoded data removed]",
      "text/plain": [
       "<Figure size 432x288 with 1 Axes>"
      ]
     },
     "metadata": {
      "needs_background": "light"
     },
     "output_type": "display_data"
    },
    {
     "data": {
      "image/png": "[encoded data removed]",
      "text/plain": [
       "<Figure size 432x288 with 1 Axes>"
      ]
     },
     "metadata": {
      "needs_background": "light"
     },
     "output_type": "display_data"
    },
    {
     "data": {
      "text/plain": [
       "0.476"
      ]
     },
     "execution_count": 32,
     "metadata": {},
     "output_type": "execute_result"
    }
   ],
   "source": [
    "plt.imshow(adv_test[0].reshape(28,28), 'gray')\n",
    "plt.show()\n",
    "affine_test = generate_affine_list(rotate_x_pertial(5),adv_test[:1000])\n",
    "plt.imshow(affine_test[0].reshape(28,28), 'gray')\n",
    "plt.show()\n",
    "affine_acc = network.accuracy(affine_test[:1000], t_test[:1000])\n",
    "affine_acc"
   ]
  },
  {
   "cell_type": "code",
   "execution_count": 33,
   "metadata": {},
   "outputs": [
    {
     "data": {
      "image/png": "[encoded data removed]",
      "text/plain": [
       "<Figure size 432x288 with 1 Axes>"
      ]
     },
     "metadata": {
      "needs_background": "light"
     },
     "output_type": "display_data"
    },
    {
     "data": {
      "image/png": "[encoded data removed]",
      "text/plain": [
       "<Figure size 432x288 with 1 Axes>"
      ]
     },
     "metadata": {
      "needs_background": "light"
     },
     "output_type": "display_data"
    },
    {
     "data": {
      "text/plain": [
       "0.51"
      ]
     },
     "execution_count": 33,
     "metadata": {},
     "output_type": "execute_result"
    }
   ],
   "source": [
    "plt.imshow(adv_test[0].reshape(28,28), 'gray')\n",
    "plt.show()\n",
    "affine_test = generate_affine_list(rotate_x_pertial(10),adv_test[:1000])\n",
    "plt.imshow(affine_test[0].reshape(28,28), 'gray')\n",
    "plt.show()\n",
    "affine_acc = network.accuracy(affine_test[:1000], t_test[:1000])\n",
    "affine_acc"
   ]
  },
  {
   "cell_type": "code",
   "execution_count": 34,
   "metadata": {},
   "outputs": [
    {
     "data": {
      "image/png": "[encoded data removed]",
      "text/plain": [
       "<Figure size 432x288 with 1 Axes>"
      ]
     },
     "metadata": {
      "needs_background": "light"
     },
     "output_type": "display_data"
    },
    {
     "data": {
      "image/png": "[encoded data removed]",
      "text/plain": [
       "<Figure size 432x288 with 1 Axes>"
      ]
     },
     "metadata": {
      "needs_background": "light"
     },
     "output_type": "display_data"
    },
    {
     "data": {
      "text/plain": [
       "0.529"
      ]
     },
     "execution_count": 34,
     "metadata": {},
     "output_type": "execute_result"
    }
   ],
   "source": [
    "plt.imshow(adv_test[0].reshape(28,28), 'gray')\n",
    "plt.show()\n",
    "affine_test = generate_affine_list(rotate_x_pertial(15),adv_test[:1000])\n",
    "plt.imshow(affine_test[0].reshape(28,28), 'gray')\n",
    "plt.show()\n",
    "affine_acc = network.accuracy(affine_test[:1000], t_test[:1000])\n",
    "affine_acc"
   ]
  },
  {
   "cell_type": "code",
   "execution_count": 35,
   "metadata": {},
   "outputs": [
    {
     "data": {
      "image/png": "[encoded data removed]",
      "text/plain": [
       "<Figure size 432x288 with 1 Axes>"
      ]
     },
     "metadata": {
      "needs_background": "light"
     },
     "output_type": "display_data"
    },
    {
     "data": {
      "image/png": "[encoded data removed]",
      "text/plain": [
       "<Figure size 432x288 with 1 Axes>"
      ]
     },
     "metadata": {
      "needs_background": "light"
     },
     "output_type": "display_data"
    },
    {
     "data": {
      "text/plain": [
       "0.536"
      ]
     },
     "execution_count": 35,
     "metadata": {},
     "output_type": "execute_result"
    }
   ],
   "source": [
    "plt.imshow(adv_test[0].reshape(28,28), 'gray')\n",
    "plt.show()\n",
    "affine_test = generate_affine_list(rotate_x_pertial(20),adv_test[:1000])\n",
    "plt.imshow(affine_test[0].reshape(28,28), 'gray')\n",
    "plt.show()\n",
    "affine_acc = network.accuracy(affine_test[:1000], t_test[:1000])\n",
    "affine_acc"
   ]
  },
  {
   "cell_type": "code",
   "execution_count": 36,
   "metadata": {},
   "outputs": [
    {
     "data": {
      "image/png": "[encoded data removed]",
      "text/plain": [
       "<Figure size 432x288 with 1 Axes>"
      ]
     },
     "metadata": {
      "needs_background": "light"
     },
     "output_type": "display_data"
    },
    {
     "data": {
      "image/png": "[encoded data removed]",
      "text/plain": [
       "<Figure size 432x288 with 1 Axes>"
      ]
     },
     "metadata": {
      "needs_background": "light"
     },
     "output_type": "display_data"
    },
    {
     "data": {
      "text/plain": [
       "0.501"
      ]
     },
     "execution_count": 36,
     "metadata": {},
     "output_type": "execute_result"
    }
   ],
   "source": [
    "plt.imshow(adv_test[0].reshape(28,28), 'gray')\n",
    "plt.show()\n",
    "affine_test = generate_affine_list(rotate_x_pertial(30),adv_test[:1000])\n",
    "plt.imshow(affine_test[0].reshape(28,28), 'gray')\n",
    "plt.show()\n",
    "affine_acc = network.accuracy(affine_test[:1000], t_test[:1000])\n",
    "affine_acc"
   ]
  },
  {
   "cell_type": "code",
   "execution_count": null,
   "metadata": {},
   "outputs": [],
   "source": []
  }
 ],
 "metadata": {
  "kernelspec": {
   "display_name": "Python 3",
   "language": "python",
   "name": "python3"
  },
  "language_info": {
   "codemirror_mode": {
    "name": "ipython",
    "version": 3
   },
   "file_extension": ".py",
   "mimetype": "text/x-python",
   "name": "python",
   "nbconvert_exporter": "python",
   "pygments_lexer": "ipython3",
   "version": "3.7.3"
  }
 },
 "nbformat": 4,
 "nbformat_minor": 2
}
