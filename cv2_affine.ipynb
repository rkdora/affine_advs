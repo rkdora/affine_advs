{
 "cells": [
  {
   "cell_type": "code",
   "execution_count": 1,
   "metadata": {},
   "outputs": [
    {
     "name": "stderr",
     "output_type": "stream",
     "text": [
      "Using TensorFlow backend.\n"
     ]
    }
   ],
   "source": [
    "import numpy as np\n",
    "import matplotlib.pyplot as plt\n",
    "from keras.datasets import mnist\n",
    "%matplotlib inline\n",
    "\n",
    "import cv2"
   ]
  },
  {
   "cell_type": "code",
   "execution_count": 2,
   "metadata": {},
   "outputs": [],
   "source": [
    "# データの読み込み\n",
    "(x_train, t_train), (x_test, t_test) = mnist.load_data()"
   ]
  },
  {
   "cell_type": "code",
   "execution_count": 3,
   "metadata": {},
   "outputs": [
    {
     "name": "stdout",
     "output_type": "stream",
     "text": [
      "28 28\n"
     ]
    },
    {
     "data": {
      "image/png": "[encoded data removed]",
      "text/plain": [
       "<Figure size 432x288 with 1 Axes>"
      ]
     },
     "metadata": {
      "needs_background": "light"
     },
     "output_type": "display_data"
    }
   ],
   "source": [
    "x = x_train[0].copy()\n",
    "\n",
    "h, w = x.shape\n",
    "print(h,w)\n",
    "\n",
    "plt.imshow(x, 'gray')\n",
    "plt.show()"
   ]
  },
  {
   "cell_type": "code",
   "execution_count": 4,
   "metadata": {},
   "outputs": [
    {
     "data": {
      "image/png": "[encoded data removed]",
      "text/plain": [
       "<Figure size 432x288 with 1 Axes>"
      ]
     },
     "metadata": {
      "needs_background": "light"
     },
     "output_type": "display_data"
    }
   ],
   "source": [
    "# 90度回転\n",
    "rotate_90 = cv2.rotate(x, cv2.ROTATE_90_CLOCKWISE)\n",
    "\n",
    "plt.imshow(rotate_90, 'gray')\n",
    "plt.show()"
   ]
  },
  {
   "cell_type": "code",
   "execution_count": 5,
   "metadata": {},
   "outputs": [
    {
     "name": "stdout",
     "output_type": "stream",
     "text": [
      "[[ 0.98480775  0.17364818 -2.21838303]\n",
      " [-0.17364818  0.98480775  2.64376595]]\n"
     ]
    },
    {
     "data": {
      "image/png": "[encoded data removed]",
      "text/plain": [
       "<Figure size 432x288 with 1 Axes>"
      ]
     },
     "metadata": {
      "needs_background": "light"
     },
     "output_type": "display_data"
    }
   ],
   "source": [
    "# 任意の角度\n",
    "# アフィン変換\n",
    "\n",
    "# 変換行列\n",
    "mat = cv2.getRotationMatrix2D((w / 2, h / 2), 10, 1.0)\n",
    "print(mat)\n",
    "\n",
    "affine_x = cv2.warpAffine(x, mat, (w, h))\n",
    "\n",
    "plt.imshow(affine_x, 'gray')\n",
    "plt.show()"
   ]
  },
  {
   "cell_type": "code",
   "execution_count": 6,
   "metadata": {},
   "outputs": [],
   "source": [
    "# 関数化\n",
    "\n",
    "def rotate_x(x, angle, scale=1.0):\n",
    "    x = x.reshape(28,28)\n",
    "    h, w = x.shape\n",
    "    \n",
    "    mat = cv2.getRotationMatrix2D((w/2, h/2), angle, scale)\n",
    "    affine_x = cv2.warpAffine(x, mat, (w, h))\n",
    "\n",
    "    return affine_x"
   ]
  },
  {
   "cell_type": "code",
   "execution_count": 7,
   "metadata": {},
   "outputs": [
    {
     "data": {
      "image/png": "[encoded data removed]",
      "text/plain": [
       "<Figure size 432x288 with 1 Axes>"
      ]
     },
     "metadata": {
      "needs_background": "light"
     },
     "output_type": "display_data"
    }
   ],
   "source": [
    "x2 = x_test[0].copy()\n",
    "plt.imshow(x2, 'gray')\n",
    "plt.show()"
   ]
  },
  {
   "cell_type": "code",
   "execution_count": 8,
   "metadata": {},
   "outputs": [
    {
     "data": {
      "image/png": "[encoded data removed]",
      "text/plain": [
       "<Figure size 432x288 with 1 Axes>"
      ]
     },
     "metadata": {
      "needs_background": "light"
     },
     "output_type": "display_data"
    }
   ],
   "source": [
    "rotate_10 = rotate_x(x2, 10)\n",
    "plt.imshow(rotate_10, 'gray')\n",
    "plt.show()"
   ]
  },
  {
   "cell_type": "code",
   "execution_count": 9,
   "metadata": {},
   "outputs": [],
   "source": [
    "# 水平移動\n",
    "\n",
    "def shift_x(x, shift):\n",
    "    x = x.reshape(28,28)\n",
    "    h, w = x.shape\n",
    "    \n",
    "    src = np.array([[0.0, 0.0],[0.0, 1.0],[1.0, 0.0]], np.float32)\n",
    "    dest = src.copy()\n",
    "    dest[:,0] += shift\n",
    "    affine = cv2.getAffineTransform(src, dest)\n",
    "    return cv2.warpAffine(x, affine, (w, h))"
   ]
  },
  {
   "cell_type": "code",
   "execution_count": 10,
   "metadata": {},
   "outputs": [
    {
     "data": {
      "image/png": "[encoded data removed]",
      "text/plain": [
       "<Figure size 432x288 with 1 Axes>"
      ]
     },
     "metadata": {
      "needs_background": "light"
     },
     "output_type": "display_data"
    }
   ],
   "source": [
    "shift_x_10 = shift_x(x2, 3)\n",
    "plt.imshow(shift_x_10, 'gray')\n",
    "plt.show()"
   ]
  },
  {
   "cell_type": "code",
   "execution_count": 11,
   "metadata": {},
   "outputs": [],
   "source": [
    "# 垂直移動\n",
    "\n",
    "def shift_y(x, shift):\n",
    "    x = x.reshape(28,28)\n",
    "    h, w = x.shape\n",
    "    \n",
    "    src = np.array([[0.0, 0.0],[0.0, 1.0],[1.0, 0.0]], np.float32)\n",
    "    dest = src.copy()\n",
    "    dest[:,1] += shift\n",
    "    affine = cv2.getAffineTransform(src, dest)\n",
    "    return cv2.warpAffine(x, affine, (w, h))"
   ]
  },
  {
   "cell_type": "code",
   "execution_count": 12,
   "metadata": {},
   "outputs": [
    {
     "data": {
      "image/png": "[encoded data removed]",
      "text/plain": [
       "<Figure size 432x288 with 1 Axes>"
      ]
     },
     "metadata": {
      "needs_background": "light"
     },
     "output_type": "display_data"
    }
   ],
   "source": [
    "shift_y_10 = shift_y(x2, -3)\n",
    "plt.imshow(shift_y_10, 'gray')\n",
    "plt.show()"
   ]
  }
 ],
 "metadata": {
  "kernelspec": {
   "display_name": "Python 3",
   "language": "python",
   "name": "python3"
  },
  "language_info": {
   "codemirror_mode": {
    "name": "ipython",
    "version": 3
   },
   "file_extension": ".py",
   "mimetype": "text/x-python",
   "name": "python",
   "nbconvert_exporter": "python",
   "pygments_lexer": "ipython3",
   "version": "3.7.3"
  }
 },
 "nbformat": 4,
 "nbformat_minor": 2
}
